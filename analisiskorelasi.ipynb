{
  "nbformat": 4,
  "nbformat_minor": 0,
  "metadata": {
    "colab": {
      "provenance": [],
      "include_colab_link": true
    },
    "kernelspec": {
      "name": "python3",
      "display_name": "Python 3"
    },
    "language_info": {
      "name": "python"
    }
  },
  "cells": [
    {
      "cell_type": "markdown",
      "metadata": {
        "id": "view-in-github",
        "colab_type": "text"
      },
      "source": [
        "<a href=\"https://colab.research.google.com/github/gumindra/analisis-korelasi/blob/main/analisiskorelasi.ipynb\" target=\"_parent\"><img src=\"https://colab.research.google.com/assets/colab-badge.svg\" alt=\"Open In Colab\"/></a>"
      ]
    },
    {
      "cell_type": "code",
      "execution_count": null,
      "metadata": {
        "id": "S-RYTmUXngJ8"
      },
      "outputs": [],
      "source": [
        "import statsmodels.formula.api as smf\n",
        "import statsmodels.stats.multicomp as multi\n",
        "import scipy\n",
        "from scipy.stats import pearsonr\n",
        "import pandas as pd\n",
        "from seaborn import regplot\n",
        "import matplotlib.pyplot as plt\n",
        "import numpy as np\n",
        "import seaborn as sns\n",
        "from scipy.stats import kstest, shapiro\n",
        "from scipy import stats"
      ]
    },
    {
      "cell_type": "code",
      "source": [
        "df = pd.read_csv('mcdonaldata.csv')\n",
        "df"
      ],
      "metadata": {
        "colab": {
          "base_uri": "https://localhost:8080/",
          "height": 468
        },
        "id": "01hw7Z6RpWRN",
        "outputId": "f87aa5a0-0a80-4680-d901-a524c98361ec"
      },
      "execution_count": null,
      "outputs": [
        {
          "output_type": "execute_result",
          "data": {
            "text/plain": [
              "     Unnamed: 0                    item servesize calories  protien  totalfat  \\\n",
              "0             0         McVeggie Burger      168       402    10.24     13.83   \n",
              "1             1     McAloo Tikki Burger      146       339     8.50     11.31   \n",
              "2             2  McSpicy Paneer Burger      199       652    20.29     39.45   \n",
              "3             3       Spicy Paneer Wrap      250       674    20.96     39.10   \n",
              "4             4     American Veg Burger      177       512    15.30     23.45   \n",
              "..          ...                     ...       ...      ...      ...       ...   \n",
              "136         136  Tomato Ketchup Sachets         8    11.23     0.08     23.45   \n",
              "137         137             Maple Syrup         3     86.4     0.00      0.00   \n",
              "138         138            Cheese Slice        14    51.03     3.06      3.99   \n",
              "139         139              Sweet Corn        40    45.08     1.47      1.00   \n",
              "140         140    Mixed Fruit Beverage       180    72.25     0.65      0.02   \n",
              "\n",
              "     satfat  transfat  cholestrol  carbs  sugar  addedsugar   sodium  \\\n",
              "0      5.34      0.16        2.49  56.54   7.90        4.49   706.13   \n",
              "1      4.27      0.20        1.47   5.27   7.05        4.07   545.34   \n",
              "2     17.12      0.18       21.85  52.33   8.35        5.27  1074.58   \n",
              "3     19.73      0.26       40.93  59.27   3.50        1.08  1087.46   \n",
              "4     10.51      0.17       25.24  56.96   7.85        4.76  1051.24   \n",
              "..      ...       ...         ...    ...    ...         ...      ...   \n",
              "136    0.38      0.25        0.08   2.63   2.33        1.64   414.71   \n",
              "137    0.00      0.40        0.30  21.60  16.20        5.34    71.05   \n",
              "138    0.00      0.00       13.43   0.72   0.54        0.00    15.00   \n",
              "139    2.89      0.01        2.00   7.55   2.54        0.00   178.95   \n",
              "140    0.22      0.04        0.01  18.00  16.83        0.00     0.04   \n",
              "\n",
              "           menu  \n",
              "0       regular  \n",
              "1       regular  \n",
              "2       regular  \n",
              "3       regular  \n",
              "4       regular  \n",
              "..          ...  \n",
              "136  condiments  \n",
              "137  condiments  \n",
              "138  condiments  \n",
              "139  condiments  \n",
              "140  condiments  \n",
              "\n",
              "[141 rows x 14 columns]"
            ],
            "text/html": [
              "\n",
              "  <div id=\"df-4c29767a-1e39-4ec2-b2d4-919b16841665\">\n",
              "    <div class=\"colab-df-container\">\n",
              "      <div>\n",
              "<style scoped>\n",
              "    .dataframe tbody tr th:only-of-type {\n",
              "        vertical-align: middle;\n",
              "    }\n",
              "\n",
              "    .dataframe tbody tr th {\n",
              "        vertical-align: top;\n",
              "    }\n",
              "\n",
              "    .dataframe thead th {\n",
              "        text-align: right;\n",
              "    }\n",
              "</style>\n",
              "<table border=\"1\" class=\"dataframe\">\n",
              "  <thead>\n",
              "    <tr style=\"text-align: right;\">\n",
              "      <th></th>\n",
              "      <th>Unnamed: 0</th>\n",
              "      <th>item</th>\n",
              "      <th>servesize</th>\n",
              "      <th>calories</th>\n",
              "      <th>protien</th>\n",
              "      <th>totalfat</th>\n",
              "      <th>satfat</th>\n",
              "      <th>transfat</th>\n",
              "      <th>cholestrol</th>\n",
              "      <th>carbs</th>\n",
              "      <th>sugar</th>\n",
              "      <th>addedsugar</th>\n",
              "      <th>sodium</th>\n",
              "      <th>menu</th>\n",
              "    </tr>\n",
              "  </thead>\n",
              "  <tbody>\n",
              "    <tr>\n",
              "      <th>0</th>\n",
              "      <td>0</td>\n",
              "      <td>McVeggie Burger</td>\n",
              "      <td>168</td>\n",
              "      <td>402</td>\n",
              "      <td>10.24</td>\n",
              "      <td>13.83</td>\n",
              "      <td>5.34</td>\n",
              "      <td>0.16</td>\n",
              "      <td>2.49</td>\n",
              "      <td>56.54</td>\n",
              "      <td>7.90</td>\n",
              "      <td>4.49</td>\n",
              "      <td>706.13</td>\n",
              "      <td>regular</td>\n",
              "    </tr>\n",
              "    <tr>\n",
              "      <th>1</th>\n",
              "      <td>1</td>\n",
              "      <td>McAloo Tikki Burger</td>\n",
              "      <td>146</td>\n",
              "      <td>339</td>\n",
              "      <td>8.50</td>\n",
              "      <td>11.31</td>\n",
              "      <td>4.27</td>\n",
              "      <td>0.20</td>\n",
              "      <td>1.47</td>\n",
              "      <td>5.27</td>\n",
              "      <td>7.05</td>\n",
              "      <td>4.07</td>\n",
              "      <td>545.34</td>\n",
              "      <td>regular</td>\n",
              "    </tr>\n",
              "    <tr>\n",
              "      <th>2</th>\n",
              "      <td>2</td>\n",
              "      <td>McSpicy Paneer Burger</td>\n",
              "      <td>199</td>\n",
              "      <td>652</td>\n",
              "      <td>20.29</td>\n",
              "      <td>39.45</td>\n",
              "      <td>17.12</td>\n",
              "      <td>0.18</td>\n",
              "      <td>21.85</td>\n",
              "      <td>52.33</td>\n",
              "      <td>8.35</td>\n",
              "      <td>5.27</td>\n",
              "      <td>1074.58</td>\n",
              "      <td>regular</td>\n",
              "    </tr>\n",
              "    <tr>\n",
              "      <th>3</th>\n",
              "      <td>3</td>\n",
              "      <td>Spicy Paneer Wrap</td>\n",
              "      <td>250</td>\n",
              "      <td>674</td>\n",
              "      <td>20.96</td>\n",
              "      <td>39.10</td>\n",
              "      <td>19.73</td>\n",
              "      <td>0.26</td>\n",
              "      <td>40.93</td>\n",
              "      <td>59.27</td>\n",
              "      <td>3.50</td>\n",
              "      <td>1.08</td>\n",
              "      <td>1087.46</td>\n",
              "      <td>regular</td>\n",
              "    </tr>\n",
              "    <tr>\n",
              "      <th>4</th>\n",
              "      <td>4</td>\n",
              "      <td>American Veg Burger</td>\n",
              "      <td>177</td>\n",
              "      <td>512</td>\n",
              "      <td>15.30</td>\n",
              "      <td>23.45</td>\n",
              "      <td>10.51</td>\n",
              "      <td>0.17</td>\n",
              "      <td>25.24</td>\n",
              "      <td>56.96</td>\n",
              "      <td>7.85</td>\n",
              "      <td>4.76</td>\n",
              "      <td>1051.24</td>\n",
              "      <td>regular</td>\n",
              "    </tr>\n",
              "    <tr>\n",
              "      <th>...</th>\n",
              "      <td>...</td>\n",
              "      <td>...</td>\n",
              "      <td>...</td>\n",
              "      <td>...</td>\n",
              "      <td>...</td>\n",
              "      <td>...</td>\n",
              "      <td>...</td>\n",
              "      <td>...</td>\n",
              "      <td>...</td>\n",
              "      <td>...</td>\n",
              "      <td>...</td>\n",
              "      <td>...</td>\n",
              "      <td>...</td>\n",
              "      <td>...</td>\n",
              "    </tr>\n",
              "    <tr>\n",
              "      <th>136</th>\n",
              "      <td>136</td>\n",
              "      <td>Tomato Ketchup Sachets</td>\n",
              "      <td>8</td>\n",
              "      <td>11.23</td>\n",
              "      <td>0.08</td>\n",
              "      <td>23.45</td>\n",
              "      <td>0.38</td>\n",
              "      <td>0.25</td>\n",
              "      <td>0.08</td>\n",
              "      <td>2.63</td>\n",
              "      <td>2.33</td>\n",
              "      <td>1.64</td>\n",
              "      <td>414.71</td>\n",
              "      <td>condiments</td>\n",
              "    </tr>\n",
              "    <tr>\n",
              "      <th>137</th>\n",
              "      <td>137</td>\n",
              "      <td>Maple Syrup</td>\n",
              "      <td>3</td>\n",
              "      <td>86.4</td>\n",
              "      <td>0.00</td>\n",
              "      <td>0.00</td>\n",
              "      <td>0.00</td>\n",
              "      <td>0.40</td>\n",
              "      <td>0.30</td>\n",
              "      <td>21.60</td>\n",
              "      <td>16.20</td>\n",
              "      <td>5.34</td>\n",
              "      <td>71.05</td>\n",
              "      <td>condiments</td>\n",
              "    </tr>\n",
              "    <tr>\n",
              "      <th>138</th>\n",
              "      <td>138</td>\n",
              "      <td>Cheese Slice</td>\n",
              "      <td>14</td>\n",
              "      <td>51.03</td>\n",
              "      <td>3.06</td>\n",
              "      <td>3.99</td>\n",
              "      <td>0.00</td>\n",
              "      <td>0.00</td>\n",
              "      <td>13.43</td>\n",
              "      <td>0.72</td>\n",
              "      <td>0.54</td>\n",
              "      <td>0.00</td>\n",
              "      <td>15.00</td>\n",
              "      <td>condiments</td>\n",
              "    </tr>\n",
              "    <tr>\n",
              "      <th>139</th>\n",
              "      <td>139</td>\n",
              "      <td>Sweet Corn</td>\n",
              "      <td>40</td>\n",
              "      <td>45.08</td>\n",
              "      <td>1.47</td>\n",
              "      <td>1.00</td>\n",
              "      <td>2.89</td>\n",
              "      <td>0.01</td>\n",
              "      <td>2.00</td>\n",
              "      <td>7.55</td>\n",
              "      <td>2.54</td>\n",
              "      <td>0.00</td>\n",
              "      <td>178.95</td>\n",
              "      <td>condiments</td>\n",
              "    </tr>\n",
              "    <tr>\n",
              "      <th>140</th>\n",
              "      <td>140</td>\n",
              "      <td>Mixed Fruit Beverage</td>\n",
              "      <td>180</td>\n",
              "      <td>72.25</td>\n",
              "      <td>0.65</td>\n",
              "      <td>0.02</td>\n",
              "      <td>0.22</td>\n",
              "      <td>0.04</td>\n",
              "      <td>0.01</td>\n",
              "      <td>18.00</td>\n",
              "      <td>16.83</td>\n",
              "      <td>0.00</td>\n",
              "      <td>0.04</td>\n",
              "      <td>condiments</td>\n",
              "    </tr>\n",
              "  </tbody>\n",
              "</table>\n",
              "<p>141 rows × 14 columns</p>\n",
              "</div>\n",
              "      <button class=\"colab-df-convert\" onclick=\"convertToInteractive('df-4c29767a-1e39-4ec2-b2d4-919b16841665')\"\n",
              "              title=\"Convert this dataframe to an interactive table.\"\n",
              "              style=\"display:none;\">\n",
              "        \n",
              "  <svg xmlns=\"http://www.w3.org/2000/svg\" height=\"24px\"viewBox=\"0 0 24 24\"\n",
              "       width=\"24px\">\n",
              "    <path d=\"M0 0h24v24H0V0z\" fill=\"none\"/>\n",
              "    <path d=\"M18.56 5.44l.94 2.06.94-2.06 2.06-.94-2.06-.94-.94-2.06-.94 2.06-2.06.94zm-11 1L8.5 8.5l.94-2.06 2.06-.94-2.06-.94L8.5 2.5l-.94 2.06-2.06.94zm10 10l.94 2.06.94-2.06 2.06-.94-2.06-.94-.94-2.06-.94 2.06-2.06.94z\"/><path d=\"M17.41 7.96l-1.37-1.37c-.4-.4-.92-.59-1.43-.59-.52 0-1.04.2-1.43.59L10.3 9.45l-7.72 7.72c-.78.78-.78 2.05 0 2.83L4 21.41c.39.39.9.59 1.41.59.51 0 1.02-.2 1.41-.59l7.78-7.78 2.81-2.81c.8-.78.8-2.07 0-2.86zM5.41 20L4 18.59l7.72-7.72 1.47 1.35L5.41 20z\"/>\n",
              "  </svg>\n",
              "      </button>\n",
              "      \n",
              "  <style>\n",
              "    .colab-df-container {\n",
              "      display:flex;\n",
              "      flex-wrap:wrap;\n",
              "      gap: 12px;\n",
              "    }\n",
              "\n",
              "    .colab-df-convert {\n",
              "      background-color: #E8F0FE;\n",
              "      border: none;\n",
              "      border-radius: 50%;\n",
              "      cursor: pointer;\n",
              "      display: none;\n",
              "      fill: #1967D2;\n",
              "      height: 32px;\n",
              "      padding: 0 0 0 0;\n",
              "      width: 32px;\n",
              "    }\n",
              "\n",
              "    .colab-df-convert:hover {\n",
              "      background-color: #E2EBFA;\n",
              "      box-shadow: 0px 1px 2px rgba(60, 64, 67, 0.3), 0px 1px 3px 1px rgba(60, 64, 67, 0.15);\n",
              "      fill: #174EA6;\n",
              "    }\n",
              "\n",
              "    [theme=dark] .colab-df-convert {\n",
              "      background-color: #3B4455;\n",
              "      fill: #D2E3FC;\n",
              "    }\n",
              "\n",
              "    [theme=dark] .colab-df-convert:hover {\n",
              "      background-color: #434B5C;\n",
              "      box-shadow: 0px 1px 3px 1px rgba(0, 0, 0, 0.15);\n",
              "      filter: drop-shadow(0px 1px 2px rgba(0, 0, 0, 0.3));\n",
              "      fill: #FFFFFF;\n",
              "    }\n",
              "  </style>\n",
              "\n",
              "      <script>\n",
              "        const buttonEl =\n",
              "          document.querySelector('#df-4c29767a-1e39-4ec2-b2d4-919b16841665 button.colab-df-convert');\n",
              "        buttonEl.style.display =\n",
              "          google.colab.kernel.accessAllowed ? 'block' : 'none';\n",
              "\n",
              "        async function convertToInteractive(key) {\n",
              "          const element = document.querySelector('#df-4c29767a-1e39-4ec2-b2d4-919b16841665');\n",
              "          const dataTable =\n",
              "            await google.colab.kernel.invokeFunction('convertToInteractive',\n",
              "                                                     [key], {});\n",
              "          if (!dataTable) return;\n",
              "\n",
              "          const docLinkHtml = 'Like what you see? Visit the ' +\n",
              "            '<a target=\"_blank\" href=https://colab.research.google.com/notebooks/data_table.ipynb>data table notebook</a>'\n",
              "            + ' to learn more about interactive tables.';\n",
              "          element.innerHTML = '';\n",
              "          dataTable['output_type'] = 'display_data';\n",
              "          await google.colab.output.renderOutput(dataTable, element);\n",
              "          const docLink = document.createElement('div');\n",
              "          docLink.innerHTML = docLinkHtml;\n",
              "          element.appendChild(docLink);\n",
              "        }\n",
              "      </script>\n",
              "    </div>\n",
              "  </div>\n",
              "  "
            ]
          },
          "metadata": {},
          "execution_count": 2
        }
      ]
    },
    {
      "cell_type": "code",
      "source": [
        "df.info()"
      ],
      "metadata": {
        "colab": {
          "base_uri": "https://localhost:8080/"
        },
        "id": "sZmbDmRRp_-T",
        "outputId": "96eb02a1-0972-4f8d-9883-56e47108b3a6"
      },
      "execution_count": null,
      "outputs": [
        {
          "output_type": "stream",
          "name": "stdout",
          "text": [
            "<class 'pandas.core.frame.DataFrame'>\n",
            "RangeIndex: 141 entries, 0 to 140\n",
            "Data columns (total 14 columns):\n",
            " #   Column      Non-Null Count  Dtype  \n",
            "---  ------      --------------  -----  \n",
            " 0   Unnamed: 0  141 non-null    int64  \n",
            " 1   item        141 non-null    object \n",
            " 2   servesize   141 non-null    object \n",
            " 3   calories    141 non-null    object \n",
            " 4   protien     141 non-null    float64\n",
            " 5   totalfat    141 non-null    float64\n",
            " 6   satfat      141 non-null    float64\n",
            " 7   transfat    141 non-null    float64\n",
            " 8   cholestrol  141 non-null    float64\n",
            " 9   carbs       141 non-null    float64\n",
            " 10  sugar       141 non-null    float64\n",
            " 11  addedsugar  141 non-null    float64\n",
            " 12  sodium      141 non-null    float64\n",
            " 13  menu        141 non-null    object \n",
            "dtypes: float64(9), int64(1), object(4)\n",
            "memory usage: 15.5+ KB\n"
          ]
        }
      ]
    },
    {
      "cell_type": "code",
      "source": [
        "df.isna().sum()"
      ],
      "metadata": {
        "colab": {
          "base_uri": "https://localhost:8080/"
        },
        "id": "eeMxMmZCqCH6",
        "outputId": "2762d849-60b5-41b6-f2da-5e06eec4741d"
      },
      "execution_count": null,
      "outputs": [
        {
          "output_type": "execute_result",
          "data": {
            "text/plain": [
              "Unnamed: 0    0\n",
              "item          0\n",
              "servesize     0\n",
              "calories      0\n",
              "protien       0\n",
              "totalfat      0\n",
              "satfat        0\n",
              "transfat      0\n",
              "cholestrol    0\n",
              "carbs         0\n",
              "sugar         0\n",
              "addedsugar    0\n",
              "sodium        0\n",
              "menu          0\n",
              "dtype: int64"
            ]
          },
          "metadata": {},
          "execution_count": 4
        }
      ]
    },
    {
      "cell_type": "code",
      "source": [
        "# Langkah 1\n",
        "rata2 = df['sugar'].mean()\n",
        "# Langkah 2\n",
        "df['sugar'] = df['sugar'].fillna(rata2)\n",
        "# Langkah 3\n",
        "df['sugar'].isna().sum()"
      ],
      "metadata": {
        "colab": {
          "base_uri": "https://localhost:8080/"
        },
        "id": "fCuIpXQCrCcw",
        "outputId": "b5b6d890-b633-422c-856d-c6bf8c337e09"
      },
      "execution_count": null,
      "outputs": [
        {
          "output_type": "execute_result",
          "data": {
            "text/plain": [
              "0"
            ]
          },
          "metadata": {},
          "execution_count": 6
        }
      ]
    },
    {
      "cell_type": "code",
      "source": [
        "df.isna().sum()"
      ],
      "metadata": {
        "colab": {
          "base_uri": "https://localhost:8080/"
        },
        "id": "maqWeVl1rLan",
        "outputId": "1666c211-e341-4c46-ed9d-e7986f04106f"
      },
      "execution_count": null,
      "outputs": [
        {
          "output_type": "execute_result",
          "data": {
            "text/plain": [
              "Unnamed: 0    0\n",
              "item          0\n",
              "servesize     0\n",
              "calories      0\n",
              "protien       0\n",
              "totalfat      0\n",
              "satfat        0\n",
              "transfat      0\n",
              "cholestrol    0\n",
              "carbs         0\n",
              "sugar         0\n",
              "addedsugar    0\n",
              "sodium        0\n",
              "menu          0\n",
              "dtype: int64"
            ]
          },
          "metadata": {},
          "execution_count": 7
        }
      ]
    },
    {
      "cell_type": "markdown",
      "source": [
        "UJI NORMALITAS"
      ],
      "metadata": {
        "id": "yzR_vuSYrTFY"
      }
    },
    {
      "cell_type": "code",
      "source": [
        "#Menggunakan Plot Visualisasi\n",
        "sns.lmplot(x=\"sugar\", y=\"cholestrol\", data=df, fit_reg=False)\n",
        "plt.title(\"Hubungan index gula terhadap rata rata kolestrol\")\n",
        "plt.show()"
      ],
      "metadata": {
        "colab": {
          "base_uri": "https://localhost:8080/",
          "height": 529
        },
        "id": "2WDD5lgBrtWu",
        "outputId": "d9cc09c9-ea15-44e1-991d-2ef804efc323"
      },
      "execution_count": null,
      "outputs": [
        {
          "output_type": "display_data",
          "data": {
            "text/plain": [
              "<Figure size 500x500 with 1 Axes>"
            ],
            "image/png": "[encoded data removed]"
          },
          "metadata": {}
        }
      ]
    },
    {
      "cell_type": "code",
      "source": [
        "#Menggunakan Uji Shapiro-Wilk (shapiro)\n",
        "swdata1 = shapiro(df['cholestrol'])\n",
        "swdata2 = shapiro(df['sugar'])\n",
        "\n",
        "print(\"Hasil Uji Normalitas pada kadar kolestrol rata-rata dalam darah\")\n",
        "print(\"___________________________________________________________________________________________________\")\n",
        "print(swdata1)\n",
        "print(\"\\n \\nHasil Uji Normalitas pada  indeks gula\")\n",
        "print(\"____________________________________________________________________________________________________\")\n",
        "print(swdata2)"
      ],
      "metadata": {
        "colab": {
          "base_uri": "https://localhost:8080/"
        },
        "id": "P-skgairtc_q",
        "outputId": "eca63f38-14a0-4e96-9740-c3913a74f189"
      },
      "execution_count": null,
      "outputs": [
        {
          "output_type": "stream",
          "name": "stdout",
          "text": [
            "Hasil Uji Normalitas pada kadar kolestrol rata-rata dalam darah\n",
            "___________________________________________________________________________________________________\n",
            "ShapiroResult(statistic=0.5257987380027771, pvalue=1.8938786093011444e-19)\n",
            "\n",
            " \n",
            "Hasil Uji Normalitas pada  indeks gula\n",
            "____________________________________________________________________________________________________\n",
            "ShapiroResult(statistic=0.8644776940345764, pvalue=4.897268701675728e-10)\n"
          ]
        }
      ]
    },
    {
      "cell_type": "markdown",
      "source": [
        "UJI KORELASI SPEARM"
      ],
      "metadata": {
        "id": "1XtShxN8urRR"
      }
    },
    {
      "cell_type": "code",
      "source": [
        "#Plot visualisasi arah regresi\n",
        "def plt_regression(x, y, data, label_1, label_2):\n",
        "    reg_plot = regplot(x=x, y=y, fit_reg=True, data=data, line_kws={'color': 'red'}, scatter_kws= {'color': 'green'})\n",
        "    plt.xlabel(label_1)\n",
        "    plt.ylabel(label_2)\n",
        "\n",
        "plt.show()\n",
        "plt_regression('sugar', 'cholestrol', df,\n",
        "               'index gula', 'kadar kolestrol rata-rata dalam darah')"
      ],
      "metadata": {
        "colab": {
          "base_uri": "https://localhost:8080/",
          "height": 449
        },
        "id": "HmozOZHIusyA",
        "outputId": "83373cb6-d809-44a0-9fb6-4c81913c1706"
      },
      "execution_count": null,
      "outputs": [
        {
          "output_type": "display_data",
          "data": {
            "text/plain": [
              "<Figure size 640x480 with 1 Axes>"
            ],
            "image/png": "[encoded data removed]"
          },
          "metadata": {}
        }
      ]
    },
    {
      "cell_type": "code",
      "source": [
        "print(stats.spearmanr(df['cholestrol'], df['sugar']))"
      ],
      "metadata": {
        "colab": {
          "base_uri": "https://localhost:8080/"
        },
        "id": "Vu8C8D-Avm4m",
        "outputId": "c53e4ce7-8452-43ca-abde-43ee35f094ec"
      },
      "execution_count": null,
      "outputs": [
        {
          "output_type": "stream",
          "name": "stdout",
          "text": [
            "SignificanceResult(statistic=-0.0542361221011701, pvalue=0.5229817728483857)\n"
          ]
        }
      ]
    }
  ]
}